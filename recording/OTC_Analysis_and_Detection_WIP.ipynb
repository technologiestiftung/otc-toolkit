{
 "cells": [
  {
   "cell_type": "code",
   "execution_count": null,
   "metadata": {},
   "outputs": [],
   "source": [
    "import pandas as pd\n",
    "import numpy as np\n",
    "from PIL import Image, ImageFont, ImageDraw, ImageEnhance\n",
    "import sys\n",
    "from os.path import join\n",
    "import time\n",
    "import os\n",
    "\n",
    "from datetime import datetime as dt\n",
    "import datetime\n",
    "import pytz\n",
    "utc = pytz.utc\n",
    "from glob import glob"
   ]
  },
  {
   "cell_type": "code",
   "execution_count": null,
   "metadata": {
    "scrolled": true
   },
   "outputs": [],
   "source": [
    "!pwd"
   ]
  },
  {
   "cell_type": "code",
   "execution_count": null,
   "metadata": {},
   "outputs": [],
   "source": [
    "#!ls"
   ]
  },
  {
   "cell_type": "code",
   "execution_count": null,
   "metadata": {},
   "outputs": [],
   "source": [
    "!ls Recordings/path/to/recording/folder/"
   ]
  },
  {
   "cell_type": "code",
   "execution_count": null,
   "metadata": {},
   "outputs": [],
   "source": [
    "PREFIX = \"recording/folder/name\" #recording/name\n",
    "IMAGE_PATH = join(\"folder/containing/PREFIX\", PREFIX) \n",
    "DATA = join(IMAGE_PATH, PREFIX + '_tracker.json')\n",
    "NUMBER_IMAGES = len(glob(join(IMAGE_PATH, '*.png')))"
   ]
  },
  {
   "cell_type": "code",
   "execution_count": null,
   "metadata": {},
   "outputs": [],
   "source": [
    "NUMBER_IMAGES"
   ]
  },
  {
   "cell_type": "code",
   "execution_count": null,
   "metadata": {},
   "outputs": [],
   "source": [
    "df = pd.read_json(DATA)"
   ]
  },
  {
   "cell_type": "code",
   "execution_count": null,
   "metadata": {},
   "outputs": [],
   "source": [
    "DATA"
   ]
  },
  {
   "cell_type": "code",
   "execution_count": null,
   "metadata": {},
   "outputs": [],
   "source": [
    "IMAGE_PATH"
   ]
  },
  {
   "cell_type": "code",
   "execution_count": null,
   "metadata": {},
   "outputs": [],
   "source": [
    "#ls Recordings/2020-07-02-12-07-24-378789/"
   ]
  },
  {
   "cell_type": "code",
   "execution_count": null,
   "metadata": {},
   "outputs": [],
   "source": [
    "df.head()"
   ]
  },
  {
   "cell_type": "code",
   "execution_count": null,
   "metadata": {},
   "outputs": [],
   "source": [
    "df.shape"
   ]
  },
  {
   "cell_type": "code",
   "execution_count": null,
   "metadata": {},
   "outputs": [],
   "source": [
    "df.columns"
   ]
  },
  {
   "cell_type": "code",
   "execution_count": null,
   "metadata": {},
   "outputs": [],
   "source": [
    "df.dtypes"
   ]
  },
  {
   "cell_type": "markdown",
   "metadata": {},
   "source": [
    "## Explore times"
   ]
  },
  {
   "cell_type": "code",
   "execution_count": null,
   "metadata": {},
   "outputs": [],
   "source": [
    "ffmpeg_start_time = dt(*tuple(int(x) for x in PREFIX.split(\"-\")), tzinfo=utc)\n",
    "ffmpeg_start_time = ffmpeg_start_time + datetime.timedelta(hours=-2)"
   ]
  },
  {
   "cell_type": "code",
   "execution_count": null,
   "metadata": {},
   "outputs": [],
   "source": [
    "ffmpeg_start_time"
   ]
  },
  {
   "cell_type": "code",
   "execution_count": null,
   "metadata": {},
   "outputs": [],
   "source": [
    "# test\n",
    "ffmpeg_start_time.microsecond"
   ]
  },
  {
   "cell_type": "code",
   "execution_count": null,
   "metadata": {},
   "outputs": [],
   "source": [
    "# total time of JSON data\n",
    "df[\"timestamp\"].max() - df[\"timestamp\"].min()"
   ]
  },
  {
   "cell_type": "code",
   "execution_count": null,
   "metadata": {},
   "outputs": [],
   "source": [
    "# JSON file starts 40 seconds earlier that ffmpeg recording and stops later\n",
    "df[\"timestamp\"] - ffmpeg_start_time"
   ]
  },
  {
   "cell_type": "code",
   "execution_count": null,
   "metadata": {},
   "outputs": [],
   "source": [
    "s = abs(df[\"timestamp\"] - ffmpeg_start_time)\n",
    "s.idxmin()"
   ]
  },
  {
   "cell_type": "code",
   "execution_count": null,
   "metadata": {},
   "outputs": [],
   "source": [
    "s.loc[s.idxmin()]"
   ]
  },
  {
   "cell_type": "code",
   "execution_count": null,
   "metadata": {},
   "outputs": [],
   "source": [
    "df.loc[s.idxmin()]"
   ]
  },
  {
   "cell_type": "markdown",
   "metadata": {},
   "source": [
    "## Modularize and merge"
   ]
  },
  {
   "cell_type": "code",
   "execution_count": null,
   "metadata": {},
   "outputs": [],
   "source": [
    "def find_elem_with_closest_ts(json_df, video_start):\n",
    "    \"\"\"Find index of row whose timestamp is closest to the video starting time\"\"\"\n",
    "    s = abs(json_df[\"timestamp\"] - video_start)\n",
    "    return s.idxmin()"
   ]
  },
  {
   "cell_type": "code",
   "execution_count": null,
   "metadata": {},
   "outputs": [],
   "source": [
    "def merge(json_df): \n",
    "    image_file_names = [PREFIX + '_' + str(i).zfill(3) + '.png' for i in json_df.index]\n",
    "    merged = {image_file_names[j]:json_df.loc[j,\"objects\"] for j in range(len(image_file_names))}\n",
    "    return merged"
   ]
  },
  {
   "cell_type": "code",
   "execution_count": null,
   "metadata": {},
   "outputs": [],
   "source": [
    "starting_index = find_elem_with_closest_ts(df, ffmpeg_start_time)"
   ]
  },
  {
   "cell_type": "code",
   "execution_count": null,
   "metadata": {},
   "outputs": [],
   "source": [
    "starting_index"
   ]
  },
  {
   "cell_type": "code",
   "execution_count": null,
   "metadata": {},
   "outputs": [],
   "source": [
    "df.loc[starting_index:].reset_index()"
   ]
  },
  {
   "cell_type": "code",
   "execution_count": null,
   "metadata": {},
   "outputs": [],
   "source": [
    "merged = merge(df.loc[starting_index:].reset_index())"
   ]
  },
  {
   "cell_type": "code",
   "execution_count": null,
   "metadata": {},
   "outputs": [],
   "source": [
    "merged"
   ]
  },
  {
   "cell_type": "markdown",
   "metadata": {},
   "source": [
    "## Draw some boxes for testing"
   ]
  },
  {
   "cell_type": "code",
   "execution_count": null,
   "metadata": {},
   "outputs": [],
   "source": [
    "# objects found in iamge number 1\n",
    "#objects_1 = merged['2020-07-02-12-07-24-378789_000.png']\n",
    "objects_1 = merged['2020-07-23-11-31-26-908767_001.png']\n",
    "filter_list = ['car','traffic light', 'person']\n",
    "detects = [item for item in objects_1 if item['name'] in filter_list]\n",
    "\n",
    "#cars_1 = [item for item in objects_1 if item['name']=='car']\n",
    "#person_1 = [item for item in objects_1 if item['name']=='person']\n"
   ]
  },
  {
   "cell_type": "code",
   "execution_count": null,
   "metadata": {},
   "outputs": [],
   "source": [
    "len(detects)\n",
    "\n",
    "#len(cars_1)"
   ]
  },
  {
   "cell_type": "code",
   "execution_count": null,
   "metadata": {},
   "outputs": [],
   "source": [
    "detects"
   ]
  },
  {
   "cell_type": "code",
   "execution_count": null,
   "metadata": {},
   "outputs": [],
   "source": [
    "# Draw Bounding boxes\n",
    "# Set bounding boxes path to same directory as images. \n",
    "path_to_images = os.getcwd()+ \"/\" + IMAGE_PATH\n",
    "print(path_to_images)\n",
    "for file_name in os.listdir(path_to_images):\n",
    "    if file_name.endswith(\".png\"):\n",
    "        print(file_name)\n",
    "        source_img = Image.open(os.path.join(path_to_images, file_name))\n",
    "        draw = ImageDraw.Draw(source_img)\n",
    "        for item in detects:\n",
    "            x = item[\"x\"]\n",
    "            y = item[\"y\"]\n",
    "            w = item[\"w\"]\n",
    "            h = item[\"h\"]\n",
    "            name = item[\"name\"]\n",
    "            draw.rectangle(((x-w/2, y-h/2), (x+w/2, y+h/2)), fill=None, outline=\"red\")\n",
    "            draw.text((x-w/2, y-h/2), name, font=ImageFont.truetype('Pillow/Tests/fonts/Arial.ttf'), fill=\"red\")\n",
    "        source_img.save('boxes_'+ file_name.split(\".\")[0] + '.jpg')\n",
    "\n",
    "   \n",
    "                                \n",
    "#(glob(join(IMAGE_PATH, '*.png')))"
   ]
  },
  {
   "cell_type": "code",
   "execution_count": null,
   "metadata": {},
   "outputs": [],
   "source": [
    "!ls"
   ]
  },
  {
   "cell_type": "code",
   "execution_count": null,
   "metadata": {},
   "outputs": [],
   "source": [
    "#!rm boxes_2020-06-04-15-40-21-286683_*"
   ]
  },
  {
   "cell_type": "code",
   "execution_count": null,
   "metadata": {},
   "outputs": [],
   "source": [
    "!ls Recordings/"
   ]
  },
  {
   "cell_type": "code",
   "execution_count": null,
   "metadata": {},
   "outputs": [],
   "source": [
    "#Open any image with boxes\n",
    "Image.open(\"boxes_.jpg\")"
   ]
  },
  {
   "cell_type": "markdown",
   "metadata": {},
   "source": [
    "##Done\n",
    "1. add text for name parameter\n",
    "\n",
    "## pending\n",
    "2. not only cars, all objects\n",
    "3. all directories\n",
    "4. store images with boxes, e.g. boxes_<original_image_name>.png (so \"boxes\" as a prefix for the image name)\n",
    "5. throw everything into a python script"
   ]
  },
  {
   "cell_type": "code",
   "execution_count": null,
   "metadata": {},
   "outputs": [],
   "source": []
  }
 ],
 "metadata": {
  "kernelspec": {
   "display_name": "Python 3",
   "language": "python",
   "name": "python3"
  },
  "language_info": {
   "codemirror_mode": {
    "name": "ipython",
    "version": 3
   },
   "file_extension": ".py",
   "mimetype": "text/x-python",
   "name": "python",
   "nbconvert_exporter": "python",
   "pygments_lexer": "ipython3",
   "version": "3.7.4"
  }
 },
 "nbformat": 4,
 "nbformat_minor": 2
}
