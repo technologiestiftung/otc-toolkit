{
 "cells": [
  {
   "cell_type": "code",
   "execution_count": 1,
   "metadata": {},
   "outputs": [],
   "source": [
    "import pandas as pd\n",
    "import numpy as np\n",
    "from PIL import Image, ImageFont, ImageDraw, ImageEnhance\n",
    "import sys\n",
    "from os.path import join\n",
    "import time\n",
    "import os\n",
    "\n",
    "from datetime import datetime as dt\n",
    "import datetime\n",
    "import pytz\n",
    "utc = pytz.utc\n",
    "from glob import glob"
   ]
  },
  {
   "cell_type": "code",
   "execution_count": 2,
   "metadata": {
    "scrolled": true
   },
   "outputs": [
    {
     "name": "stdout",
     "output_type": "stream",
     "text": [
      "/Users/helena/projects/OpenTrafficCount/otc-toolkit/recording\r\n"
     ]
    }
   ],
   "source": [
    "!pwd"
   ]
  },
  {
   "cell_type": "code",
   "execution_count": 64,
   "metadata": {},
   "outputs": [],
   "source": [
    "PATH_TO_RECORDINGS = \"../evaluate_recordings/data\" #recording/name\n",
    "DATETIME_OF_RECORDING = \"2020-07-10-11-31-27-614801\"\n",
    "IMAGE_PATH = join(PATH_TO_RECORDINGS, DATETIME_OF_RECORDING) \n",
    "DATA = join(IMAGE_PATH, DATETIME_OF_RECORDING + '_tracker.json')\n",
    "NUMBER_IMAGES = len(glob(join(IMAGE_PATH, '*.png')))"
   ]
  },
  {
   "cell_type": "code",
   "execution_count": 9,
   "metadata": {},
   "outputs": [
    {
     "data": {
      "text/plain": [
       "'data/2020-07-10-11-31-27-614801'"
      ]
     },
     "execution_count": 9,
     "metadata": {},
     "output_type": "execute_result"
    }
   ],
   "source": [
    "IMAGE_PATH"
   ]
  },
  {
   "cell_type": "code",
   "execution_count": 8,
   "metadata": {},
   "outputs": [
    {
     "data": {
      "text/plain": [
       "'data/2020-07-10-11-31-27-614801/2020-07-10-11-31-27-614801_tracker.json'"
      ]
     },
     "execution_count": 8,
     "metadata": {},
     "output_type": "execute_result"
    }
   ],
   "source": [
    "DATA"
   ]
  },
  {
   "cell_type": "code",
   "execution_count": 6,
   "metadata": {},
   "outputs": [
    {
     "data": {
      "text/plain": [
       "100"
      ]
     },
     "execution_count": 6,
     "metadata": {},
     "output_type": "execute_result"
    }
   ],
   "source": [
    "NUMBER_IMAGES"
   ]
  },
  {
   "cell_type": "code",
   "execution_count": 7,
   "metadata": {},
   "outputs": [],
   "source": [
    "df = pd.read_json(DATA)"
   ]
  },
  {
   "cell_type": "code",
   "execution_count": 10,
   "metadata": {},
   "outputs": [
    {
     "data": {
      "text/html": [
       "<div>\n",
       "<style scoped>\n",
       "    .dataframe tbody tr th:only-of-type {\n",
       "        vertical-align: middle;\n",
       "    }\n",
       "\n",
       "    .dataframe tbody tr th {\n",
       "        vertical-align: top;\n",
       "    }\n",
       "\n",
       "    .dataframe thead th {\n",
       "        text-align: right;\n",
       "    }\n",
       "</style>\n",
       "<table border=\"1\" class=\"dataframe\">\n",
       "  <thead>\n",
       "    <tr style=\"text-align: right;\">\n",
       "      <th></th>\n",
       "      <th>_id</th>\n",
       "      <th>recordingId</th>\n",
       "      <th>frameId</th>\n",
       "      <th>timestamp</th>\n",
       "      <th>objects</th>\n",
       "    </tr>\n",
       "  </thead>\n",
       "  <tbody>\n",
       "    <tr>\n",
       "      <th>0</th>\n",
       "      <td>5f0835653a97be0066b7db4f</td>\n",
       "      <td>5f0835653a97be0066b7db4e</td>\n",
       "      <td>3</td>\n",
       "      <td>2020-07-10 09:31:17.671000+00:00</td>\n",
       "      <td>[{'id': 0, 'x': 173, 'y': 216, 'w': 19, 'h': 3...</td>\n",
       "    </tr>\n",
       "    <tr>\n",
       "      <th>1</th>\n",
       "      <td>5f0835653a97be0066b7db50</td>\n",
       "      <td>5f0835653a97be0066b7db4e</td>\n",
       "      <td>3</td>\n",
       "      <td>2020-07-10 09:31:17.686000+00:00</td>\n",
       "      <td>[{'id': 0, 'x': 173, 'y': 216, 'w': 19, 'h': 3...</td>\n",
       "    </tr>\n",
       "    <tr>\n",
       "      <th>2</th>\n",
       "      <td>5f0835663a97be0066b7db51</td>\n",
       "      <td>5f0835653a97be0066b7db4e</td>\n",
       "      <td>7</td>\n",
       "      <td>2020-07-10 09:31:18.049000+00:00</td>\n",
       "      <td>[{'id': 0, 'x': 164, 'y': 219, 'w': 19, 'h': 3...</td>\n",
       "    </tr>\n",
       "    <tr>\n",
       "      <th>3</th>\n",
       "      <td>5f0835663a97be0066b7db52</td>\n",
       "      <td>5f0835653a97be0066b7db4e</td>\n",
       "      <td>7</td>\n",
       "      <td>2020-07-10 09:31:18.072000+00:00</td>\n",
       "      <td>[{'id': 0, 'x': 164, 'y': 219, 'w': 19, 'h': 3...</td>\n",
       "    </tr>\n",
       "    <tr>\n",
       "      <th>4</th>\n",
       "      <td>5f0835663a97be0066b7db53</td>\n",
       "      <td>5f0835653a97be0066b7db4e</td>\n",
       "      <td>8</td>\n",
       "      <td>2020-07-10 09:31:18.146000+00:00</td>\n",
       "      <td>[{'id': 0, 'x': 163, 'y': 219, 'w': 21, 'h': 3...</td>\n",
       "    </tr>\n",
       "  </tbody>\n",
       "</table>\n",
       "</div>"
      ],
      "text/plain": [
       "                        _id               recordingId  frameId  \\\n",
       "0  5f0835653a97be0066b7db4f  5f0835653a97be0066b7db4e        3   \n",
       "1  5f0835653a97be0066b7db50  5f0835653a97be0066b7db4e        3   \n",
       "2  5f0835663a97be0066b7db51  5f0835653a97be0066b7db4e        7   \n",
       "3  5f0835663a97be0066b7db52  5f0835653a97be0066b7db4e        7   \n",
       "4  5f0835663a97be0066b7db53  5f0835653a97be0066b7db4e        8   \n",
       "\n",
       "                         timestamp  \\\n",
       "0 2020-07-10 09:31:17.671000+00:00   \n",
       "1 2020-07-10 09:31:17.686000+00:00   \n",
       "2 2020-07-10 09:31:18.049000+00:00   \n",
       "3 2020-07-10 09:31:18.072000+00:00   \n",
       "4 2020-07-10 09:31:18.146000+00:00   \n",
       "\n",
       "                                             objects  \n",
       "0  [{'id': 0, 'x': 173, 'y': 216, 'w': 19, 'h': 3...  \n",
       "1  [{'id': 0, 'x': 173, 'y': 216, 'w': 19, 'h': 3...  \n",
       "2  [{'id': 0, 'x': 164, 'y': 219, 'w': 19, 'h': 3...  \n",
       "3  [{'id': 0, 'x': 164, 'y': 219, 'w': 19, 'h': 3...  \n",
       "4  [{'id': 0, 'x': 163, 'y': 219, 'w': 21, 'h': 3...  "
      ]
     },
     "execution_count": 10,
     "metadata": {},
     "output_type": "execute_result"
    }
   ],
   "source": [
    "df.head()"
   ]
  },
  {
   "cell_type": "code",
   "execution_count": 11,
   "metadata": {},
   "outputs": [
    {
     "data": {
      "text/plain": [
       "(1008, 5)"
      ]
     },
     "execution_count": 11,
     "metadata": {},
     "output_type": "execute_result"
    }
   ],
   "source": [
    "df.shape"
   ]
  },
  {
   "cell_type": "code",
   "execution_count": 12,
   "metadata": {},
   "outputs": [
    {
     "data": {
      "text/plain": [
       "Index(['_id', 'recordingId', 'frameId', 'timestamp', 'objects'], dtype='object')"
      ]
     },
     "execution_count": 12,
     "metadata": {},
     "output_type": "execute_result"
    }
   ],
   "source": [
    "df.columns"
   ]
  },
  {
   "cell_type": "code",
   "execution_count": 13,
   "metadata": {},
   "outputs": [
    {
     "data": {
      "text/plain": [
       "_id                         object\n",
       "recordingId                 object\n",
       "frameId                      int64\n",
       "timestamp      datetime64[ns, UTC]\n",
       "objects                     object\n",
       "dtype: object"
      ]
     },
     "execution_count": 13,
     "metadata": {},
     "output_type": "execute_result"
    }
   ],
   "source": [
    "df.dtypes"
   ]
  },
  {
   "cell_type": "markdown",
   "metadata": {},
   "source": [
    "## Explore times"
   ]
  },
  {
   "cell_type": "code",
   "execution_count": 15,
   "metadata": {},
   "outputs": [],
   "source": [
    "ffmpeg_start_time = dt(*tuple(int(x) for x in DATETIME_OF_RECORDING.split(\"-\")), tzinfo=utc)\n",
    "ffmpeg_start_time = ffmpeg_start_time + datetime.timedelta(hours=-2)"
   ]
  },
  {
   "cell_type": "code",
   "execution_count": 16,
   "metadata": {},
   "outputs": [
    {
     "data": {
      "text/plain": [
       "datetime.datetime(2020, 7, 10, 9, 31, 27, 614801, tzinfo=<UTC>)"
      ]
     },
     "execution_count": 16,
     "metadata": {},
     "output_type": "execute_result"
    }
   ],
   "source": [
    "ffmpeg_start_time"
   ]
  },
  {
   "cell_type": "code",
   "execution_count": 17,
   "metadata": {},
   "outputs": [
    {
     "data": {
      "text/plain": [
       "614801"
      ]
     },
     "execution_count": 17,
     "metadata": {},
     "output_type": "execute_result"
    }
   ],
   "source": [
    "# test\n",
    "ffmpeg_start_time.microsecond"
   ]
  },
  {
   "cell_type": "code",
   "execution_count": 18,
   "metadata": {},
   "outputs": [
    {
     "data": {
      "text/plain": [
       "Timedelta('0 days 00:00:51.033000')"
      ]
     },
     "execution_count": 18,
     "metadata": {},
     "output_type": "execute_result"
    }
   ],
   "source": [
    "# total time of JSON data\n",
    "df[\"timestamp\"].max() - df[\"timestamp\"].min()"
   ]
  },
  {
   "cell_type": "code",
   "execution_count": 19,
   "metadata": {},
   "outputs": [
    {
     "data": {
      "text/plain": [
       "0      -1 days +23:59:50.056199\n",
       "1      -1 days +23:59:50.071199\n",
       "2      -1 days +23:59:50.434199\n",
       "3      -1 days +23:59:50.457199\n",
       "4      -1 days +23:59:50.531199\n",
       "                 ...           \n",
       "1003            00:00:40.863199\n",
       "1004            00:00:40.967199\n",
       "1005            00:00:40.971199\n",
       "1006            00:00:41.089199\n",
       "1007            00:00:41.083199\n",
       "Name: timestamp, Length: 1008, dtype: timedelta64[ns]"
      ]
     },
     "execution_count": 19,
     "metadata": {},
     "output_type": "execute_result"
    }
   ],
   "source": [
    "# JSON file starts 40 seconds earlier that ffmpeg recording and stops later\n",
    "df[\"timestamp\"] - ffmpeg_start_time"
   ]
  },
  {
   "cell_type": "code",
   "execution_count": 20,
   "metadata": {},
   "outputs": [
    {
     "data": {
      "text/plain": [
       "194"
      ]
     },
     "execution_count": 20,
     "metadata": {},
     "output_type": "execute_result"
    }
   ],
   "source": [
    "s = abs(df[\"timestamp\"] - ffmpeg_start_time)\n",
    "s.idxmin()"
   ]
  },
  {
   "cell_type": "code",
   "execution_count": 21,
   "metadata": {},
   "outputs": [
    {
     "data": {
      "text/plain": [
       "Timedelta('0 days 00:00:00.038199')"
      ]
     },
     "execution_count": 21,
     "metadata": {},
     "output_type": "execute_result"
    }
   ],
   "source": [
    "s.loc[s.idxmin()]"
   ]
  },
  {
   "cell_type": "code",
   "execution_count": 22,
   "metadata": {},
   "outputs": [
    {
     "data": {
      "text/plain": [
       "_id                                     5f08356f3a97be0066b7dc11\n",
       "recordingId                             5f0835653a97be0066b7db4e\n",
       "frameId                                                      103\n",
       "timestamp                       2020-07-10 09:31:27.653000+00:00\n",
       "objects        [{'id': 1, 'x': 241, 'y': 5, 'w': 20, 'h': 11,...\n",
       "Name: 194, dtype: object"
      ]
     },
     "execution_count": 22,
     "metadata": {},
     "output_type": "execute_result"
    }
   ],
   "source": [
    "df.loc[s.idxmin()]"
   ]
  },
  {
   "cell_type": "markdown",
   "metadata": {},
   "source": [
    "## Modularize and merge"
   ]
  },
  {
   "cell_type": "code",
   "execution_count": 23,
   "metadata": {},
   "outputs": [],
   "source": [
    "def find_elem_with_closest_ts(json_df, video_start):\n",
    "    \"\"\"Find index of row whose timestamp is closest to the video starting time\"\"\"\n",
    "    s = abs(json_df[\"timestamp\"] - video_start)\n",
    "    return s.idxmin()"
   ]
  },
  {
   "cell_type": "code",
   "execution_count": 24,
   "metadata": {},
   "outputs": [],
   "source": [
    "def merge(json_df): \n",
    "    image_file_names = [PREFIX + '_' + str(i).zfill(3) + '.png' for i in json_df.index]\n",
    "    merged = {image_file_names[j]:json_df.loc[j,\"objects\"] for j in range(len(image_file_names))}\n",
    "    return merged"
   ]
  },
  {
   "cell_type": "code",
   "execution_count": 25,
   "metadata": {},
   "outputs": [],
   "source": [
    "starting_index = find_elem_with_closest_ts(df, ffmpeg_start_time)"
   ]
  },
  {
   "cell_type": "code",
   "execution_count": 26,
   "metadata": {},
   "outputs": [
    {
     "data": {
      "text/plain": [
       "194"
      ]
     },
     "execution_count": 26,
     "metadata": {},
     "output_type": "execute_result"
    }
   ],
   "source": [
    "starting_index"
   ]
  },
  {
   "cell_type": "code",
   "execution_count": 27,
   "metadata": {},
   "outputs": [
    {
     "data": {
      "text/html": [
       "<div>\n",
       "<style scoped>\n",
       "    .dataframe tbody tr th:only-of-type {\n",
       "        vertical-align: middle;\n",
       "    }\n",
       "\n",
       "    .dataframe tbody tr th {\n",
       "        vertical-align: top;\n",
       "    }\n",
       "\n",
       "    .dataframe thead th {\n",
       "        text-align: right;\n",
       "    }\n",
       "</style>\n",
       "<table border=\"1\" class=\"dataframe\">\n",
       "  <thead>\n",
       "    <tr style=\"text-align: right;\">\n",
       "      <th></th>\n",
       "      <th>index</th>\n",
       "      <th>_id</th>\n",
       "      <th>recordingId</th>\n",
       "      <th>frameId</th>\n",
       "      <th>timestamp</th>\n",
       "      <th>objects</th>\n",
       "    </tr>\n",
       "  </thead>\n",
       "  <tbody>\n",
       "    <tr>\n",
       "      <th>0</th>\n",
       "      <td>194</td>\n",
       "      <td>5f08356f3a97be0066b7dc11</td>\n",
       "      <td>5f0835653a97be0066b7db4e</td>\n",
       "      <td>103</td>\n",
       "      <td>2020-07-10 09:31:27.653000+00:00</td>\n",
       "      <td>[{'id': 1, 'x': 241, 'y': 5, 'w': 20, 'h': 11,...</td>\n",
       "    </tr>\n",
       "    <tr>\n",
       "      <th>1</th>\n",
       "      <td>195</td>\n",
       "      <td>5f08356f3a97be0066b7dc12</td>\n",
       "      <td>5f0835653a97be0066b7db4e</td>\n",
       "      <td>103</td>\n",
       "      <td>2020-07-10 09:31:27.657000+00:00</td>\n",
       "      <td>[{'id': 1, 'x': 241, 'y': 5, 'w': 20, 'h': 11,...</td>\n",
       "    </tr>\n",
       "    <tr>\n",
       "      <th>2</th>\n",
       "      <td>196</td>\n",
       "      <td>5f08356f3a97be0066b7dc13</td>\n",
       "      <td>5f0835653a97be0066b7db4e</td>\n",
       "      <td>104</td>\n",
       "      <td>2020-07-10 09:31:27.759000+00:00</td>\n",
       "      <td>[{'id': 1, 'x': 241, 'y': 5, 'w': 20, 'h': 11,...</td>\n",
       "    </tr>\n",
       "    <tr>\n",
       "      <th>3</th>\n",
       "      <td>197</td>\n",
       "      <td>5f08356f3a97be0066b7dc14</td>\n",
       "      <td>5f0835653a97be0066b7db4e</td>\n",
       "      <td>104</td>\n",
       "      <td>2020-07-10 09:31:27.763000+00:00</td>\n",
       "      <td>[{'id': 1, 'x': 241, 'y': 5, 'w': 20, 'h': 11,...</td>\n",
       "    </tr>\n",
       "    <tr>\n",
       "      <th>4</th>\n",
       "      <td>198</td>\n",
       "      <td>5f08356f3a97be0066b7dc15</td>\n",
       "      <td>5f0835653a97be0066b7db4e</td>\n",
       "      <td>105</td>\n",
       "      <td>2020-07-10 09:31:27.854000+00:00</td>\n",
       "      <td>[{'id': 1, 'x': 241, 'y': 5, 'w': 20, 'h': 11,...</td>\n",
       "    </tr>\n",
       "    <tr>\n",
       "      <th>...</th>\n",
       "      <td>...</td>\n",
       "      <td>...</td>\n",
       "      <td>...</td>\n",
       "      <td>...</td>\n",
       "      <td>...</td>\n",
       "      <td>...</td>\n",
       "    </tr>\n",
       "    <tr>\n",
       "      <th>809</th>\n",
       "      <td>1003</td>\n",
       "      <td>5f0835983a97be0066b7df3a</td>\n",
       "      <td>5f0835653a97be0066b7db4e</td>\n",
       "      <td>507</td>\n",
       "      <td>2020-07-10 09:32:08.478000+00:00</td>\n",
       "      <td>[{'id': 2, 'x': 253, 'y': 246, 'w': 20, 'h': 3...</td>\n",
       "    </tr>\n",
       "    <tr>\n",
       "      <th>810</th>\n",
       "      <td>1004</td>\n",
       "      <td>5f0835983a97be0066b7df3b</td>\n",
       "      <td>5f0835653a97be0066b7db4e</td>\n",
       "      <td>508</td>\n",
       "      <td>2020-07-10 09:32:08.582000+00:00</td>\n",
       "      <td>[{'id': 2, 'x': 253, 'y': 246, 'w': 20, 'h': 3...</td>\n",
       "    </tr>\n",
       "    <tr>\n",
       "      <th>811</th>\n",
       "      <td>1005</td>\n",
       "      <td>5f0835983a97be0066b7df3c</td>\n",
       "      <td>5f0835653a97be0066b7db4e</td>\n",
       "      <td>508</td>\n",
       "      <td>2020-07-10 09:32:08.586000+00:00</td>\n",
       "      <td>[{'id': 2, 'x': 253, 'y': 246, 'w': 20, 'h': 3...</td>\n",
       "    </tr>\n",
       "    <tr>\n",
       "      <th>812</th>\n",
       "      <td>1006</td>\n",
       "      <td>5f0835983a97be0066b7df3e</td>\n",
       "      <td>5f0835653a97be0066b7db4e</td>\n",
       "      <td>509</td>\n",
       "      <td>2020-07-10 09:32:08.704000+00:00</td>\n",
       "      <td>[{'id': 2, 'x': 253, 'y': 246, 'w': 19, 'h': 3...</td>\n",
       "    </tr>\n",
       "    <tr>\n",
       "      <th>813</th>\n",
       "      <td>1007</td>\n",
       "      <td>5f0835983a97be0066b7df3d</td>\n",
       "      <td>5f0835653a97be0066b7db4e</td>\n",
       "      <td>509</td>\n",
       "      <td>2020-07-10 09:32:08.698000+00:00</td>\n",
       "      <td>[{'id': 2, 'x': 253, 'y': 246, 'w': 19, 'h': 3...</td>\n",
       "    </tr>\n",
       "  </tbody>\n",
       "</table>\n",
       "<p>814 rows × 6 columns</p>\n",
       "</div>"
      ],
      "text/plain": [
       "     index                       _id               recordingId  frameId  \\\n",
       "0      194  5f08356f3a97be0066b7dc11  5f0835653a97be0066b7db4e      103   \n",
       "1      195  5f08356f3a97be0066b7dc12  5f0835653a97be0066b7db4e      103   \n",
       "2      196  5f08356f3a97be0066b7dc13  5f0835653a97be0066b7db4e      104   \n",
       "3      197  5f08356f3a97be0066b7dc14  5f0835653a97be0066b7db4e      104   \n",
       "4      198  5f08356f3a97be0066b7dc15  5f0835653a97be0066b7db4e      105   \n",
       "..     ...                       ...                       ...      ...   \n",
       "809   1003  5f0835983a97be0066b7df3a  5f0835653a97be0066b7db4e      507   \n",
       "810   1004  5f0835983a97be0066b7df3b  5f0835653a97be0066b7db4e      508   \n",
       "811   1005  5f0835983a97be0066b7df3c  5f0835653a97be0066b7db4e      508   \n",
       "812   1006  5f0835983a97be0066b7df3e  5f0835653a97be0066b7db4e      509   \n",
       "813   1007  5f0835983a97be0066b7df3d  5f0835653a97be0066b7db4e      509   \n",
       "\n",
       "                           timestamp  \\\n",
       "0   2020-07-10 09:31:27.653000+00:00   \n",
       "1   2020-07-10 09:31:27.657000+00:00   \n",
       "2   2020-07-10 09:31:27.759000+00:00   \n",
       "3   2020-07-10 09:31:27.763000+00:00   \n",
       "4   2020-07-10 09:31:27.854000+00:00   \n",
       "..                               ...   \n",
       "809 2020-07-10 09:32:08.478000+00:00   \n",
       "810 2020-07-10 09:32:08.582000+00:00   \n",
       "811 2020-07-10 09:32:08.586000+00:00   \n",
       "812 2020-07-10 09:32:08.704000+00:00   \n",
       "813 2020-07-10 09:32:08.698000+00:00   \n",
       "\n",
       "                                               objects  \n",
       "0    [{'id': 1, 'x': 241, 'y': 5, 'w': 20, 'h': 11,...  \n",
       "1    [{'id': 1, 'x': 241, 'y': 5, 'w': 20, 'h': 11,...  \n",
       "2    [{'id': 1, 'x': 241, 'y': 5, 'w': 20, 'h': 11,...  \n",
       "3    [{'id': 1, 'x': 241, 'y': 5, 'w': 20, 'h': 11,...  \n",
       "4    [{'id': 1, 'x': 241, 'y': 5, 'w': 20, 'h': 11,...  \n",
       "..                                                 ...  \n",
       "809  [{'id': 2, 'x': 253, 'y': 246, 'w': 20, 'h': 3...  \n",
       "810  [{'id': 2, 'x': 253, 'y': 246, 'w': 20, 'h': 3...  \n",
       "811  [{'id': 2, 'x': 253, 'y': 246, 'w': 20, 'h': 3...  \n",
       "812  [{'id': 2, 'x': 253, 'y': 246, 'w': 19, 'h': 3...  \n",
       "813  [{'id': 2, 'x': 253, 'y': 246, 'w': 19, 'h': 3...  \n",
       "\n",
       "[814 rows x 6 columns]"
      ]
     },
     "execution_count": 27,
     "metadata": {},
     "output_type": "execute_result"
    }
   ],
   "source": [
    "df.loc[starting_index:].reset_index()"
   ]
  },
  {
   "cell_type": "code",
   "execution_count": 54,
   "metadata": {},
   "outputs": [
    {
     "data": {
      "text/plain": [
       "1008"
      ]
     },
     "execution_count": 54,
     "metadata": {},
     "output_type": "execute_result"
    }
   ],
   "source": [
    "len(df)"
   ]
  },
  {
   "cell_type": "code",
   "execution_count": 34,
   "metadata": {},
   "outputs": [],
   "source": [
    "df.drop([\"_id\",\"recordingId\"], inplace=True, axis=1)"
   ]
  },
  {
   "cell_type": "code",
   "execution_count": 53,
   "metadata": {},
   "outputs": [
    {
     "data": {
      "text/plain": [
       "0       [{'id': 0, 'x': 173, 'y': 216, 'w': 19, 'h': 3...\n",
       "1       [{'id': 0, 'x': 173, 'y': 216, 'w': 19, 'h': 3...\n",
       "2       [{'id': 0, 'x': 164, 'y': 219, 'w': 19, 'h': 3...\n",
       "3       [{'id': 0, 'x': 164, 'y': 219, 'w': 19, 'h': 3...\n",
       "4       [{'id': 0, 'x': 163, 'y': 219, 'w': 21, 'h': 3...\n",
       "                              ...                        \n",
       "1003    [{'id': 2, 'x': 253, 'y': 246, 'w': 20, 'h': 3...\n",
       "1004    [{'id': 2, 'x': 253, 'y': 246, 'w': 20, 'h': 3...\n",
       "1005    [{'id': 2, 'x': 253, 'y': 246, 'w': 20, 'h': 3...\n",
       "1006    [{'id': 2, 'x': 253, 'y': 246, 'w': 19, 'h': 3...\n",
       "1007    [{'id': 2, 'x': 253, 'y': 246, 'w': 19, 'h': 3...\n",
       "Name: objects, Length: 1008, dtype: object"
      ]
     },
     "execution_count": 53,
     "metadata": {},
     "output_type": "execute_result"
    }
   ],
   "source": [
    "df.objects"
   ]
  },
  {
   "cell_type": "code",
   "execution_count": 73,
   "metadata": {},
   "outputs": [],
   "source": [
    "df.objects = df.objects.map(lambda x: tuple(x))"
   ]
  },
  {
   "cell_type": "code",
   "execution_count": 78,
   "metadata": {},
   "outputs": [
    {
     "data": {
      "text/plain": [
       "True"
      ]
     },
     "execution_count": 78,
     "metadata": {},
     "output_type": "execute_result"
    }
   ],
   "source": [
    "df.loc[0,\"objects\"]==df.loc[1,\"objects\"]"
   ]
  },
  {
   "cell_type": "code",
   "execution_count": 79,
   "metadata": {},
   "outputs": [
    {
     "data": {
      "text/plain": [
       "False"
      ]
     },
     "execution_count": 79,
     "metadata": {},
     "output_type": "execute_result"
    }
   ],
   "source": [
    "df.loc[0,\"objects\"]==df.loc[2,\"objects\"]"
   ]
  },
  {
   "cell_type": "code",
   "execution_count": 80,
   "metadata": {},
   "outputs": [
    {
     "data": {
      "text/plain": [
       "True"
      ]
     },
     "execution_count": 80,
     "metadata": {},
     "output_type": "execute_result"
    }
   ],
   "source": [
    "df.loc[2,\"objects\"]==df.loc[3,\"objects\"]"
   ]
  },
  {
   "cell_type": "code",
   "execution_count": 88,
   "metadata": {},
   "outputs": [
    {
     "name": "stdout",
     "output_type": "stream",
     "text": [
      "not equal:  8\n",
      "16\n",
      "15\n",
      "not equal:  12\n",
      "15\n",
      "14\n",
      "not equal:  20\n",
      "15\n",
      "15\n",
      "not equal:  24\n",
      "16\n",
      "15\n",
      "not equal:  28\n",
      "15\n",
      "15\n",
      "not equal:  30\n",
      "15\n",
      "15\n",
      "not equal:  34\n",
      "15\n",
      "14\n",
      "not equal:  38\n",
      "15\n",
      "14\n",
      "not equal:  44\n",
      "14\n",
      "14\n",
      "not equal:  46\n",
      "14\n",
      "14\n",
      "not equal:  56\n",
      "16\n",
      "16\n",
      "not equal:  58\n",
      "16\n",
      "16\n",
      "not equal:  62\n",
      "16\n",
      "15\n",
      "not equal:  88\n",
      "16\n",
      "15\n",
      "not equal:  96\n",
      "16\n",
      "15\n",
      "not equal:  98\n",
      "17\n",
      "17\n",
      "not equal:  100\n",
      "17\n",
      "16\n",
      "not equal:  108\n",
      "17\n",
      "17\n",
      "not equal:  110\n",
      "16\n",
      "17\n",
      "not equal:  112\n",
      "16\n",
      "16\n",
      "not equal:  116\n",
      "16\n",
      "16\n",
      "not equal:  118\n",
      "16\n",
      "15\n",
      "not equal:  132\n",
      "16\n",
      "16\n",
      "not equal:  140\n",
      "16\n",
      "15\n",
      "not equal:  150\n",
      "16\n",
      "16\n",
      "not equal:  168\n",
      "16\n",
      "15\n",
      "not equal:  172\n",
      "17\n",
      "17\n",
      "not equal:  174\n",
      "18\n",
      "18\n",
      "not equal:  176\n",
      "18\n",
      "18\n",
      "not equal:  178\n",
      "19\n",
      "16\n",
      "not equal:  180\n",
      "17\n",
      "16\n",
      "not equal:  182\n",
      "16\n",
      "15\n",
      "not equal:  184\n",
      "15\n",
      "15\n",
      "not equal:  186\n",
      "15\n",
      "15\n",
      "not equal:  192\n",
      "16\n",
      "16\n",
      "not equal:  194\n",
      "16\n",
      "16\n",
      "not equal:  196\n",
      "16\n",
      "15\n",
      "not equal:  198\n",
      "15\n",
      "15\n",
      "not equal:  202\n",
      "15\n",
      "15\n",
      "not equal:  210\n",
      "15\n",
      "14\n",
      "not equal:  212\n",
      "16\n",
      "16\n",
      "not equal:  218\n",
      "16\n",
      "15\n",
      "not equal:  220\n",
      "15\n",
      "15\n",
      "not equal:  222\n",
      "15\n",
      "15\n",
      "not equal:  226\n",
      "16\n",
      "16\n",
      "not equal:  236\n",
      "17\n",
      "16\n",
      "not equal:  238\n",
      "17\n",
      "16\n",
      "not equal:  244\n",
      "18\n",
      "17\n",
      "not equal:  260\n",
      "19\n",
      "19\n",
      "not equal:  264\n",
      "19\n",
      "19\n",
      "not equal:  266\n",
      "19\n",
      "19\n",
      "not equal:  268\n",
      "19\n",
      "19\n",
      "not equal:  270\n",
      "19\n",
      "19\n",
      "not equal:  274\n",
      "19\n",
      "19\n",
      "not equal:  276\n",
      "20\n",
      "19\n",
      "not equal:  278\n",
      "19\n",
      "20\n",
      "not equal:  280\n",
      "18\n",
      "19\n",
      "not equal:  284\n",
      "18\n",
      "19\n",
      "not equal:  288\n",
      "19\n",
      "19\n",
      "not equal:  292\n",
      "19\n",
      "18\n",
      "not equal:  296\n",
      "21\n",
      "21\n",
      "not equal:  300\n",
      "21\n",
      "20\n",
      "not equal:  302\n",
      "20\n",
      "20\n",
      "not equal:  304\n",
      "21\n",
      "20\n",
      "not equal:  308\n",
      "21\n",
      "20\n",
      "not equal:  314\n",
      "21\n",
      "21\n",
      "not equal:  318\n",
      "21\n",
      "20\n",
      "not equal:  320\n",
      "21\n",
      "21\n",
      "not equal:  322\n",
      "22\n",
      "22\n",
      "not equal:  324\n",
      "22\n",
      "21\n",
      "not equal:  326\n",
      "22\n",
      "21\n",
      "not equal:  328\n",
      "22\n",
      "21\n",
      "not equal:  330\n",
      "22\n",
      "22\n",
      "not equal:  332\n",
      "22\n",
      "20\n",
      "not equal:  334\n",
      "20\n",
      "19\n",
      "not equal:  336\n",
      "19\n",
      "19\n",
      "not equal:  338\n",
      "20\n",
      "19\n",
      "not equal:  340\n",
      "22\n",
      "22\n",
      "not equal:  342\n",
      "22\n",
      "21\n",
      "not equal:  346\n",
      "21\n",
      "21\n",
      "not equal:  348\n",
      "21\n",
      "21\n",
      "not equal:  350\n",
      "21\n",
      "20\n",
      "not equal:  352\n",
      "20\n",
      "19\n",
      "not equal:  358\n",
      "20\n",
      "19\n",
      "not equal:  360\n",
      "19\n",
      "19\n",
      "not equal:  362\n",
      "20\n",
      "19\n",
      "not equal:  364\n",
      "19\n",
      "19\n",
      "not equal:  366\n",
      "19\n",
      "19\n",
      "not equal:  368\n",
      "19\n",
      "19\n",
      "not equal:  370\n",
      "17\n",
      "19\n",
      "not equal:  372\n",
      "17\n",
      "17\n",
      "not equal:  374\n",
      "17\n",
      "17\n",
      "not equal:  376\n",
      "18\n",
      "18\n",
      "not equal:  382\n",
      "18\n",
      "18\n",
      "not equal:  384\n",
      "18\n",
      "18\n",
      "not equal:  386\n",
      "18\n",
      "18\n",
      "not equal:  388\n",
      "19\n",
      "18\n",
      "not equal:  390\n",
      "18\n",
      "18\n",
      "not equal:  392\n",
      "18\n",
      "18\n",
      "not equal:  394\n",
      "18\n",
      "18\n",
      "not equal:  396\n",
      "19\n",
      "18\n",
      "not equal:  398\n",
      "18\n",
      "18\n",
      "not equal:  400\n",
      "18\n",
      "18\n",
      "not equal:  402\n",
      "19\n",
      "19\n",
      "not equal:  404\n",
      "19\n",
      "19\n",
      "not equal:  406\n",
      "20\n",
      "20\n",
      "not equal:  408\n",
      "20\n",
      "18\n",
      "not equal:  410\n",
      "18\n",
      "18\n",
      "not equal:  414\n",
      "18\n",
      "18\n",
      "not equal:  416\n",
      "18\n",
      "18\n",
      "not equal:  418\n",
      "17\n",
      "18\n",
      "not equal:  420\n",
      "18\n",
      "18\n",
      "not equal:  422\n",
      "19\n",
      "18\n",
      "not equal:  424\n",
      "18\n",
      "18\n",
      "not equal:  426\n",
      "18\n",
      "18\n",
      "not equal:  428\n",
      "18\n",
      "17\n",
      "not equal:  430\n",
      "17\n",
      "16\n",
      "not equal:  432\n",
      "17\n",
      "17\n",
      "not equal:  436\n",
      "17\n",
      "17\n",
      "not equal:  438\n",
      "17\n",
      "17\n",
      "not equal:  440\n",
      "17\n",
      "17\n",
      "not equal:  442\n",
      "17\n",
      "17\n",
      "not equal:  444\n",
      "17\n",
      "17\n",
      "not equal:  446\n",
      "17\n",
      "15\n",
      "not equal:  448\n",
      "15\n",
      "14\n",
      "not equal:  450\n",
      "14\n",
      "14\n",
      "not equal:  452\n",
      "16\n",
      "15\n",
      "not equal:  454\n",
      "15\n",
      "14\n",
      "not equal:  456\n",
      "14\n",
      "14\n",
      "not equal:  458\n",
      "14\n",
      "14\n",
      "not equal:  460\n",
      "14\n",
      "13\n",
      "not equal:  462\n",
      "14\n",
      "14\n",
      "not equal:  464\n",
      "14\n",
      "13\n",
      "not equal:  466\n",
      "13\n",
      "13\n",
      "not equal:  470\n",
      "14\n",
      "14\n",
      "not equal:  474\n",
      "14\n",
      "13\n",
      "not equal:  476\n",
      "13\n",
      "12\n",
      "not equal:  478\n",
      "13\n",
      "12\n",
      "not equal:  480\n",
      "12\n",
      "11\n",
      "not equal:  488\n",
      "11\n",
      "11\n",
      "not equal:  490\n",
      "12\n",
      "11\n",
      "not equal:  496\n",
      "11\n",
      "11\n",
      "not equal:  500\n",
      "11\n",
      "11\n",
      "not equal:  504\n",
      "11\n",
      "11\n",
      "not equal:  506\n",
      "11\n",
      "11\n",
      "not equal:  522\n",
      "12\n",
      "11\n",
      "not equal:  532\n",
      "11\n",
      "11\n",
      "not equal:  534\n",
      "11\n",
      "11\n",
      "not equal:  536\n",
      "11\n",
      "10\n",
      "not equal:  588\n",
      "13\n",
      "12\n",
      "not equal:  606\n",
      "14\n",
      "13\n",
      "not equal:  614\n",
      "13\n",
      "13\n",
      "not equal:  616\n",
      "13\n",
      "13\n",
      "not equal:  618\n",
      "15\n",
      "14\n",
      "not equal:  628\n",
      "14\n",
      "13\n",
      "not equal:  644\n",
      "13\n",
      "13\n",
      "not equal:  646\n",
      "13\n",
      "13\n",
      "not equal:  648\n",
      "13\n",
      "13\n",
      "not equal:  672\n",
      "14\n",
      "13\n",
      "not equal:  684\n",
      "14\n",
      "13\n",
      "not equal:  690\n",
      "13\n",
      "13\n",
      "not equal:  694\n",
      "13\n",
      "13\n",
      "not equal:  696\n",
      "14\n",
      "14\n",
      "not equal:  700\n",
      "14\n",
      "14\n",
      "not equal:  704\n",
      "15\n",
      "15\n",
      "not equal:  706\n",
      "15\n",
      "15\n",
      "not equal:  708\n",
      "15\n",
      "15\n",
      "not equal:  710\n",
      "15\n",
      "14\n",
      "not equal:  714\n",
      "15\n",
      "15\n",
      "not equal:  716\n",
      "15\n",
      "15\n",
      "not equal:  720\n",
      "17\n",
      "16\n",
      "not equal:  724\n",
      "16\n",
      "16\n",
      "not equal:  726\n",
      "16\n",
      "16\n",
      "not equal:  728\n",
      "17\n",
      "15\n",
      "not equal:  730\n",
      "15\n",
      "15\n",
      "not equal:  732\n",
      "15\n",
      "15\n",
      "not equal:  734\n",
      "15\n",
      "14\n",
      "not equal:  738\n",
      "14\n",
      "14\n",
      "not equal:  740\n",
      "14\n",
      "14\n",
      "not equal:  744\n",
      "13\n",
      "14\n",
      "not equal:  746\n",
      "13\n",
      "12\n",
      "not equal:  748\n",
      "13\n",
      "12\n",
      "not equal:  752\n",
      "13\n",
      "13\n",
      "not equal:  754\n",
      "13\n",
      "13\n",
      "not equal:  756\n",
      "13\n",
      "12\n",
      "not equal:  758\n",
      "13\n",
      "14\n",
      "not equal:  760\n",
      "14\n",
      "14\n",
      "not equal:  764\n",
      "14\n",
      "14\n",
      "not equal:  766\n",
      "14\n",
      "15\n",
      "not equal:  768\n",
      "15\n",
      "14\n",
      "not equal:  774\n",
      "15\n",
      "15\n",
      "not equal:  776\n",
      "15\n",
      "14\n",
      "not equal:  778\n",
      "14\n",
      "13\n",
      "not equal:  786\n",
      "17\n",
      "17\n",
      "not equal:  788\n",
      "18\n",
      "17\n",
      "not equal:  790\n",
      "18\n",
      "18\n",
      "not equal:  792\n",
      "18\n",
      "17\n",
      "not equal:  794\n",
      "17\n",
      "17\n",
      "not equal:  796\n",
      "17\n",
      "17\n",
      "not equal:  798\n",
      "18\n",
      "16\n",
      "not equal:  800\n",
      "16\n",
      "15\n",
      "not equal:  802\n",
      "15\n",
      "15\n",
      "not equal:  804\n",
      "15\n",
      "15\n",
      "not equal:  806\n",
      "15\n",
      "15\n",
      "not equal:  808\n",
      "15\n",
      "16\n",
      "not equal:  810\n",
      "15\n",
      "15\n",
      "not equal:  812\n",
      "15\n",
      "15\n",
      "not equal:  820\n",
      "15\n",
      "15\n",
      "not equal:  822\n",
      "15\n",
      "14\n",
      "not equal:  824\n",
      "14\n",
      "14\n",
      "not equal:  826\n",
      "15\n",
      "15\n",
      "not equal:  828\n",
      "15\n",
      "14\n",
      "not equal:  836\n",
      "16\n",
      "16\n",
      "not equal:  838\n",
      "17\n",
      "16\n",
      "not equal:  840\n",
      "16\n",
      "16\n",
      "not equal:  842\n",
      "16\n",
      "15\n",
      "not equal:  846\n",
      "18\n",
      "18\n",
      "not equal:  848\n",
      "18\n",
      "18\n",
      "not equal:  850\n",
      "18\n",
      "17\n",
      "not equal:  854\n",
      "18\n",
      "18\n",
      "not equal:  856\n",
      "20\n",
      "20\n",
      "not equal:  858\n",
      "17\n",
      "20\n",
      "not equal:  862\n",
      "18\n",
      "18\n",
      "not equal:  864\n",
      "19\n",
      "19\n",
      "not equal:  868\n",
      "20\n",
      "18\n",
      "not equal:  876\n",
      "18\n",
      "18\n",
      "not equal:  880\n",
      "18\n",
      "17\n",
      "not equal:  884\n",
      "17\n",
      "17\n",
      "not equal:  888\n",
      "17\n",
      "16\n",
      "not equal:  890\n",
      "17\n",
      "17\n",
      "not equal:  892\n",
      "18\n",
      "17\n",
      "not equal:  894\n",
      "17\n",
      "18\n",
      "not equal:  896\n",
      "17\n",
      "16\n",
      "not equal:  898\n",
      "17\n",
      "16\n",
      "not equal:  900\n",
      "15\n",
      "17\n",
      "not equal:  904\n",
      "15\n",
      "15\n",
      "not equal:  906\n",
      "15\n",
      "15\n",
      "not equal:  908\n",
      "14\n",
      "15\n",
      "not equal:  910\n",
      "14\n",
      "13\n",
      "not equal:  912\n",
      "14\n",
      "13\n",
      "not equal:  914\n",
      "13\n",
      "13\n",
      "not equal:  916\n",
      "13\n",
      "13\n",
      "not equal:  918\n",
      "13\n",
      "13\n",
      "not equal:  920\n",
      "13\n",
      "12\n",
      "not equal:  922\n",
      "12\n",
      "12\n",
      "not equal:  924\n",
      "13\n",
      "13\n",
      "not equal:  926\n",
      "13\n",
      "12\n",
      "not equal:  932\n",
      "14\n",
      "14\n",
      "not equal:  938\n",
      "15\n",
      "15\n",
      "not equal:  940\n",
      "14\n",
      "15\n",
      "not equal:  942\n",
      "14\n",
      "13\n",
      "not equal:  944\n",
      "13\n",
      "13\n",
      "not equal:  946\n",
      "13\n",
      "13\n",
      "not equal:  948\n",
      "13\n",
      "13\n",
      "not equal:  950\n",
      "14\n",
      "13\n",
      "not equal:  954\n",
      "13\n",
      "13\n",
      "not equal:  968\n",
      "13\n",
      "12\n",
      "not equal:  976\n",
      "12\n",
      "12\n",
      "not equal:  980\n",
      "12\n",
      "12\n",
      "not equal:  984\n",
      "13\n",
      "13\n",
      "not equal:  986\n",
      "13\n",
      "13\n",
      "not equal:  988\n",
      "13\n",
      "12\n",
      "not equal:  1002\n",
      "13\n",
      "13\n"
     ]
    }
   ],
   "source": [
    "for i in range(0,len(df),2):\n",
    "    #print(i)\n",
    "    if df.loc[i,\"objects\"]!=df.loc[i+1,\"objects\"]:\n",
    "        print(\"not equal: \",i)\n",
    "        print(len(df.loc[i,\"objects\"]))\n",
    "        print(len(df.loc[i+1,\"objects\"]))"
   ]
  },
  {
   "cell_type": "code",
   "execution_count": 66,
   "metadata": {},
   "outputs": [
    {
     "data": {
      "text/plain": [
       "traffic light    727\n",
       "car              180\n",
       "person           101\n",
       "Name: objects, dtype: int64"
      ]
     },
     "execution_count": 66,
     "metadata": {},
     "output_type": "execute_result"
    }
   ],
   "source": [
    "df.objects.map(lambda x: x[0][\"name\"]).value_counts()"
   ]
  },
  {
   "cell_type": "code",
   "execution_count": 71,
   "metadata": {},
   "outputs": [
    {
     "ename": "TypeError",
     "evalue": "unhashable type: 'list'",
     "output_type": "error",
     "traceback": [
      "\u001b[0;31m---------------------------------------------------------------------------\u001b[0m",
      "\u001b[0;31mTypeError\u001b[0m                                 Traceback (most recent call last)",
      "\u001b[0;32m<ipython-input-71-51f3c3d15ad1>\u001b[0m in \u001b[0;36m<module>\u001b[0;34m()\u001b[0m\n\u001b[0;32m----> 1\u001b[0;31m \u001b[0mdf\u001b[0m\u001b[0;34m.\u001b[0m\u001b[0mgroupby\u001b[0m\u001b[0;34m(\u001b[0m\u001b[0;34m\"objects\"\u001b[0m\u001b[0;34m)\u001b[0m\u001b[0;34m.\u001b[0m\u001b[0mgroups\u001b[0m\u001b[0;34m\u001b[0m\u001b[0m\n\u001b[0m",
      "\u001b[0;32m~/.pyenv/versions/3.6.5/envs/ads/lib/python3.6/site-packages/pandas/core/groupby/groupby.py\u001b[0m in \u001b[0;36mgroups\u001b[0;34m(self)\u001b[0m\n\u001b[1;32m    420\u001b[0m         \"\"\"\n\u001b[1;32m    421\u001b[0m         \u001b[0mself\u001b[0m\u001b[0;34m.\u001b[0m\u001b[0m_assure_grouper\u001b[0m\u001b[0;34m(\u001b[0m\u001b[0;34m)\u001b[0m\u001b[0;34m\u001b[0m\u001b[0m\n\u001b[0;32m--> 422\u001b[0;31m         \u001b[0;32mreturn\u001b[0m \u001b[0mself\u001b[0m\u001b[0;34m.\u001b[0m\u001b[0mgrouper\u001b[0m\u001b[0;34m.\u001b[0m\u001b[0mgroups\u001b[0m\u001b[0;34m\u001b[0m\u001b[0m\n\u001b[0m\u001b[1;32m    423\u001b[0m \u001b[0;34m\u001b[0m\u001b[0m\n\u001b[1;32m    424\u001b[0m     \u001b[0;34m@\u001b[0m\u001b[0mproperty\u001b[0m\u001b[0;34m\u001b[0m\u001b[0m\n",
      "\u001b[0;32mpandas/_libs/properties.pyx\u001b[0m in \u001b[0;36mpandas._libs.properties.CachedProperty.__get__\u001b[0;34m()\u001b[0m\n",
      "\u001b[0;32m~/.pyenv/versions/3.6.5/envs/ads/lib/python3.6/site-packages/pandas/core/groupby/ops.py\u001b[0m in \u001b[0;36mgroups\u001b[0;34m(self)\u001b[0m\n\u001b[1;32m    281\u001b[0m         \u001b[0;34m\"\"\" dict {group name -> group labels} \"\"\"\u001b[0m\u001b[0;34m\u001b[0m\u001b[0m\n\u001b[1;32m    282\u001b[0m         \u001b[0;32mif\u001b[0m \u001b[0mlen\u001b[0m\u001b[0;34m(\u001b[0m\u001b[0mself\u001b[0m\u001b[0;34m.\u001b[0m\u001b[0mgroupings\u001b[0m\u001b[0;34m)\u001b[0m \u001b[0;34m==\u001b[0m \u001b[0;36m1\u001b[0m\u001b[0;34m:\u001b[0m\u001b[0;34m\u001b[0m\u001b[0m\n\u001b[0;32m--> 283\u001b[0;31m             \u001b[0;32mreturn\u001b[0m \u001b[0mself\u001b[0m\u001b[0;34m.\u001b[0m\u001b[0mgroupings\u001b[0m\u001b[0;34m[\u001b[0m\u001b[0;36m0\u001b[0m\u001b[0;34m]\u001b[0m\u001b[0;34m.\u001b[0m\u001b[0mgroups\u001b[0m\u001b[0;34m\u001b[0m\u001b[0m\n\u001b[0m\u001b[1;32m    284\u001b[0m         \u001b[0;32melse\u001b[0m\u001b[0;34m:\u001b[0m\u001b[0;34m\u001b[0m\u001b[0m\n\u001b[1;32m    285\u001b[0m             \u001b[0mto_groupby\u001b[0m \u001b[0;34m=\u001b[0m \u001b[0mzip\u001b[0m\u001b[0;34m(\u001b[0m\u001b[0;34m*\u001b[0m\u001b[0;34m(\u001b[0m\u001b[0mping\u001b[0m\u001b[0;34m.\u001b[0m\u001b[0mgrouper\u001b[0m \u001b[0;32mfor\u001b[0m \u001b[0mping\u001b[0m \u001b[0;32min\u001b[0m \u001b[0mself\u001b[0m\u001b[0;34m.\u001b[0m\u001b[0mgroupings\u001b[0m\u001b[0;34m)\u001b[0m\u001b[0;34m)\u001b[0m\u001b[0;34m\u001b[0m\u001b[0m\n",
      "\u001b[0;32mpandas/_libs/properties.pyx\u001b[0m in \u001b[0;36mpandas._libs.properties.CachedProperty.__get__\u001b[0;34m()\u001b[0m\n",
      "\u001b[0;32m~/.pyenv/versions/3.6.5/envs/ads/lib/python3.6/site-packages/pandas/core/groupby/grouper.py\u001b[0m in \u001b[0;36mgroups\u001b[0;34m(self)\u001b[0m\n\u001b[1;32m    426\u001b[0m     \u001b[0;34m@\u001b[0m\u001b[0mcache_readonly\u001b[0m\u001b[0;34m\u001b[0m\u001b[0m\n\u001b[1;32m    427\u001b[0m     \u001b[0;32mdef\u001b[0m \u001b[0mgroups\u001b[0m\u001b[0;34m(\u001b[0m\u001b[0mself\u001b[0m\u001b[0;34m)\u001b[0m\u001b[0;34m:\u001b[0m\u001b[0;34m\u001b[0m\u001b[0m\n\u001b[0;32m--> 428\u001b[0;31m         \u001b[0;32mreturn\u001b[0m \u001b[0mself\u001b[0m\u001b[0;34m.\u001b[0m\u001b[0mindex\u001b[0m\u001b[0;34m.\u001b[0m\u001b[0mgroupby\u001b[0m\u001b[0;34m(\u001b[0m\u001b[0mCategorical\u001b[0m\u001b[0;34m.\u001b[0m\u001b[0mfrom_codes\u001b[0m\u001b[0;34m(\u001b[0m\u001b[0mself\u001b[0m\u001b[0;34m.\u001b[0m\u001b[0mlabels\u001b[0m\u001b[0;34m,\u001b[0m \u001b[0mself\u001b[0m\u001b[0;34m.\u001b[0m\u001b[0mgroup_index\u001b[0m\u001b[0;34m)\u001b[0m\u001b[0;34m)\u001b[0m\u001b[0;34m\u001b[0m\u001b[0m\n\u001b[0m\u001b[1;32m    429\u001b[0m \u001b[0;34m\u001b[0m\u001b[0m\n\u001b[1;32m    430\u001b[0m \u001b[0;34m\u001b[0m\u001b[0m\n",
      "\u001b[0;32m~/.pyenv/versions/3.6.5/envs/ads/lib/python3.6/site-packages/pandas/core/groupby/grouper.py\u001b[0m in \u001b[0;36mlabels\u001b[0;34m(self)\u001b[0m\n\u001b[1;32m    395\u001b[0m     \u001b[0;32mdef\u001b[0m \u001b[0mlabels\u001b[0m\u001b[0;34m(\u001b[0m\u001b[0mself\u001b[0m\u001b[0;34m)\u001b[0m\u001b[0;34m:\u001b[0m\u001b[0;34m\u001b[0m\u001b[0m\n\u001b[1;32m    396\u001b[0m         \u001b[0;32mif\u001b[0m \u001b[0mself\u001b[0m\u001b[0;34m.\u001b[0m\u001b[0m_labels\u001b[0m \u001b[0;32mis\u001b[0m \u001b[0;32mNone\u001b[0m\u001b[0;34m:\u001b[0m\u001b[0;34m\u001b[0m\u001b[0m\n\u001b[0;32m--> 397\u001b[0;31m             \u001b[0mself\u001b[0m\u001b[0;34m.\u001b[0m\u001b[0m_make_labels\u001b[0m\u001b[0;34m(\u001b[0m\u001b[0;34m)\u001b[0m\u001b[0;34m\u001b[0m\u001b[0m\n\u001b[0m\u001b[1;32m    398\u001b[0m         \u001b[0;32mreturn\u001b[0m \u001b[0mself\u001b[0m\u001b[0;34m.\u001b[0m\u001b[0m_labels\u001b[0m\u001b[0;34m\u001b[0m\u001b[0m\n\u001b[1;32m    399\u001b[0m \u001b[0;34m\u001b[0m\u001b[0m\n",
      "\u001b[0;32m~/.pyenv/versions/3.6.5/envs/ads/lib/python3.6/site-packages/pandas/core/groupby/grouper.py\u001b[0m in \u001b[0;36m_make_labels\u001b[0;34m(self)\u001b[0m\n\u001b[1;32m    419\u001b[0m                 \u001b[0muniques\u001b[0m \u001b[0;34m=\u001b[0m \u001b[0mself\u001b[0m\u001b[0;34m.\u001b[0m\u001b[0mgrouper\u001b[0m\u001b[0;34m.\u001b[0m\u001b[0mresult_index\u001b[0m\u001b[0;34m\u001b[0m\u001b[0m\n\u001b[1;32m    420\u001b[0m             \u001b[0;32melse\u001b[0m\u001b[0;34m:\u001b[0m\u001b[0;34m\u001b[0m\u001b[0m\n\u001b[0;32m--> 421\u001b[0;31m                 \u001b[0mlabels\u001b[0m\u001b[0;34m,\u001b[0m \u001b[0muniques\u001b[0m \u001b[0;34m=\u001b[0m \u001b[0malgorithms\u001b[0m\u001b[0;34m.\u001b[0m\u001b[0mfactorize\u001b[0m\u001b[0;34m(\u001b[0m\u001b[0mself\u001b[0m\u001b[0;34m.\u001b[0m\u001b[0mgrouper\u001b[0m\u001b[0;34m,\u001b[0m \u001b[0msort\u001b[0m\u001b[0;34m=\u001b[0m\u001b[0mself\u001b[0m\u001b[0;34m.\u001b[0m\u001b[0msort\u001b[0m\u001b[0;34m)\u001b[0m\u001b[0;34m\u001b[0m\u001b[0m\n\u001b[0m\u001b[1;32m    422\u001b[0m                 \u001b[0muniques\u001b[0m \u001b[0;34m=\u001b[0m \u001b[0mIndex\u001b[0m\u001b[0;34m(\u001b[0m\u001b[0muniques\u001b[0m\u001b[0;34m,\u001b[0m \u001b[0mname\u001b[0m\u001b[0;34m=\u001b[0m\u001b[0mself\u001b[0m\u001b[0;34m.\u001b[0m\u001b[0mname\u001b[0m\u001b[0;34m)\u001b[0m\u001b[0;34m\u001b[0m\u001b[0m\n\u001b[1;32m    423\u001b[0m             \u001b[0mself\u001b[0m\u001b[0;34m.\u001b[0m\u001b[0m_labels\u001b[0m \u001b[0;34m=\u001b[0m \u001b[0mlabels\u001b[0m\u001b[0;34m\u001b[0m\u001b[0m\n",
      "\u001b[0;32m~/.pyenv/versions/3.6.5/envs/ads/lib/python3.6/site-packages/pandas/util/_decorators.py\u001b[0m in \u001b[0;36mwrapper\u001b[0;34m(*args, **kwargs)\u001b[0m\n\u001b[1;32m    206\u001b[0m                 \u001b[0;32melse\u001b[0m\u001b[0;34m:\u001b[0m\u001b[0;34m\u001b[0m\u001b[0m\n\u001b[1;32m    207\u001b[0m                     \u001b[0mkwargs\u001b[0m\u001b[0;34m[\u001b[0m\u001b[0mnew_arg_name\u001b[0m\u001b[0;34m]\u001b[0m \u001b[0;34m=\u001b[0m \u001b[0mnew_arg_value\u001b[0m\u001b[0;34m\u001b[0m\u001b[0m\n\u001b[0;32m--> 208\u001b[0;31m             \u001b[0;32mreturn\u001b[0m \u001b[0mfunc\u001b[0m\u001b[0;34m(\u001b[0m\u001b[0;34m*\u001b[0m\u001b[0margs\u001b[0m\u001b[0;34m,\u001b[0m \u001b[0;34m**\u001b[0m\u001b[0mkwargs\u001b[0m\u001b[0;34m)\u001b[0m\u001b[0;34m\u001b[0m\u001b[0m\n\u001b[0m\u001b[1;32m    209\u001b[0m \u001b[0;34m\u001b[0m\u001b[0m\n\u001b[1;32m    210\u001b[0m         \u001b[0;32mreturn\u001b[0m \u001b[0mwrapper\u001b[0m\u001b[0;34m\u001b[0m\u001b[0m\n",
      "\u001b[0;32m~/.pyenv/versions/3.6.5/envs/ads/lib/python3.6/site-packages/pandas/core/algorithms.py\u001b[0m in \u001b[0;36mfactorize\u001b[0;34m(values, sort, order, na_sentinel, size_hint)\u001b[0m\n\u001b[1;32m    670\u001b[0m \u001b[0;34m\u001b[0m\u001b[0m\n\u001b[1;32m    671\u001b[0m         labels, uniques = _factorize_array(\n\u001b[0;32m--> 672\u001b[0;31m             \u001b[0mvalues\u001b[0m\u001b[0;34m,\u001b[0m \u001b[0mna_sentinel\u001b[0m\u001b[0;34m=\u001b[0m\u001b[0mna_sentinel\u001b[0m\u001b[0;34m,\u001b[0m \u001b[0msize_hint\u001b[0m\u001b[0;34m=\u001b[0m\u001b[0msize_hint\u001b[0m\u001b[0;34m,\u001b[0m \u001b[0mna_value\u001b[0m\u001b[0;34m=\u001b[0m\u001b[0mna_value\u001b[0m\u001b[0;34m\u001b[0m\u001b[0m\n\u001b[0m\u001b[1;32m    673\u001b[0m         )\n\u001b[1;32m    674\u001b[0m \u001b[0;34m\u001b[0m\u001b[0m\n",
      "\u001b[0;32m~/.pyenv/versions/3.6.5/envs/ads/lib/python3.6/site-packages/pandas/core/algorithms.py\u001b[0m in \u001b[0;36m_factorize_array\u001b[0;34m(values, na_sentinel, size_hint, na_value)\u001b[0m\n\u001b[1;32m    506\u001b[0m     \u001b[0mtable\u001b[0m \u001b[0;34m=\u001b[0m \u001b[0mhash_klass\u001b[0m\u001b[0;34m(\u001b[0m\u001b[0msize_hint\u001b[0m \u001b[0;32mor\u001b[0m \u001b[0mlen\u001b[0m\u001b[0;34m(\u001b[0m\u001b[0mvalues\u001b[0m\u001b[0;34m)\u001b[0m\u001b[0;34m)\u001b[0m\u001b[0;34m\u001b[0m\u001b[0m\n\u001b[1;32m    507\u001b[0m     uniques, labels = table.factorize(\n\u001b[0;32m--> 508\u001b[0;31m         \u001b[0mvalues\u001b[0m\u001b[0;34m,\u001b[0m \u001b[0mna_sentinel\u001b[0m\u001b[0;34m=\u001b[0m\u001b[0mna_sentinel\u001b[0m\u001b[0;34m,\u001b[0m \u001b[0mna_value\u001b[0m\u001b[0;34m=\u001b[0m\u001b[0mna_value\u001b[0m\u001b[0;34m\u001b[0m\u001b[0m\n\u001b[0m\u001b[1;32m    509\u001b[0m     )\n\u001b[1;32m    510\u001b[0m \u001b[0;34m\u001b[0m\u001b[0m\n",
      "\u001b[0;32mpandas/_libs/hashtable_class_helper.pxi\u001b[0m in \u001b[0;36mpandas._libs.hashtable.PyObjectHashTable.factorize\u001b[0;34m()\u001b[0m\n",
      "\u001b[0;32mpandas/_libs/hashtable_class_helper.pxi\u001b[0m in \u001b[0;36mpandas._libs.hashtable.PyObjectHashTable._unique\u001b[0;34m()\u001b[0m\n",
      "\u001b[0;31mTypeError\u001b[0m: unhashable type: 'list'"
     ]
    }
   ],
   "source": [
    "df.groupby(\"objects\").groups"
   ]
  },
  {
   "cell_type": "code",
   "execution_count": 40,
   "metadata": {},
   "outputs": [],
   "source": [
    "frames = df.groupby(\"frameId\").aggregate(list)"
   ]
  },
  {
   "cell_type": "code",
   "execution_count": 41,
   "metadata": {},
   "outputs": [
    {
     "data": {
      "text/html": [
       "<div>\n",
       "<style scoped>\n",
       "    .dataframe tbody tr th:only-of-type {\n",
       "        vertical-align: middle;\n",
       "    }\n",
       "\n",
       "    .dataframe tbody tr th {\n",
       "        vertical-align: top;\n",
       "    }\n",
       "\n",
       "    .dataframe thead th {\n",
       "        text-align: right;\n",
       "    }\n",
       "</style>\n",
       "<table border=\"1\" class=\"dataframe\">\n",
       "  <thead>\n",
       "    <tr style=\"text-align: right;\">\n",
       "      <th></th>\n",
       "      <th>timestamp</th>\n",
       "      <th>objects</th>\n",
       "    </tr>\n",
       "    <tr>\n",
       "      <th>frameId</th>\n",
       "      <th></th>\n",
       "      <th></th>\n",
       "    </tr>\n",
       "  </thead>\n",
       "  <tbody>\n",
       "    <tr>\n",
       "      <th>3</th>\n",
       "      <td>[2020-07-10 09:31:17.671000+00:00, 2020-07-10 ...</td>\n",
       "      <td>[[{'id': 0, 'x': 173, 'y': 216, 'w': 19, 'h': ...</td>\n",
       "    </tr>\n",
       "    <tr>\n",
       "      <th>7</th>\n",
       "      <td>[2020-07-10 09:31:18.049000+00:00, 2020-07-10 ...</td>\n",
       "      <td>[[{'id': 0, 'x': 164, 'y': 219, 'w': 19, 'h': ...</td>\n",
       "    </tr>\n",
       "    <tr>\n",
       "      <th>8</th>\n",
       "      <td>[2020-07-10 09:31:18.146000+00:00, 2020-07-10 ...</td>\n",
       "      <td>[[{'id': 0, 'x': 163, 'y': 219, 'w': 21, 'h': ...</td>\n",
       "    </tr>\n",
       "    <tr>\n",
       "      <th>9</th>\n",
       "      <td>[2020-07-10 09:31:18.249000+00:00, 2020-07-10 ...</td>\n",
       "      <td>[[{'id': 0, 'x': 157, 'y': 220, 'w': 18, 'h': ...</td>\n",
       "    </tr>\n",
       "    <tr>\n",
       "      <th>10</th>\n",
       "      <td>[2020-07-10 09:31:18.365000+00:00, 2020-07-10 ...</td>\n",
       "      <td>[[{'id': 0, 'x': 153, 'y': 220, 'w': 17, 'h': ...</td>\n",
       "    </tr>\n",
       "  </tbody>\n",
       "</table>\n",
       "</div>"
      ],
      "text/plain": [
       "                                                 timestamp  \\\n",
       "frameId                                                      \n",
       "3        [2020-07-10 09:31:17.671000+00:00, 2020-07-10 ...   \n",
       "7        [2020-07-10 09:31:18.049000+00:00, 2020-07-10 ...   \n",
       "8        [2020-07-10 09:31:18.146000+00:00, 2020-07-10 ...   \n",
       "9        [2020-07-10 09:31:18.249000+00:00, 2020-07-10 ...   \n",
       "10       [2020-07-10 09:31:18.365000+00:00, 2020-07-10 ...   \n",
       "\n",
       "                                                   objects  \n",
       "frameId                                                     \n",
       "3        [[{'id': 0, 'x': 173, 'y': 216, 'w': 19, 'h': ...  \n",
       "7        [[{'id': 0, 'x': 164, 'y': 219, 'w': 19, 'h': ...  \n",
       "8        [[{'id': 0, 'x': 163, 'y': 219, 'w': 21, 'h': ...  \n",
       "9        [[{'id': 0, 'x': 157, 'y': 220, 'w': 18, 'h': ...  \n",
       "10       [[{'id': 0, 'x': 153, 'y': 220, 'w': 17, 'h': ...  "
      ]
     },
     "execution_count": 41,
     "metadata": {},
     "output_type": "execute_result"
    }
   ],
   "source": [
    "frames.head()"
   ]
  },
  {
   "cell_type": "code",
   "execution_count": 42,
   "metadata": {},
   "outputs": [
    {
     "data": {
      "text/plain": [
       "(504, 2)"
      ]
     },
     "execution_count": 42,
     "metadata": {},
     "output_type": "execute_result"
    }
   ],
   "source": [
    "frames.shape"
   ]
  },
  {
   "cell_type": "code",
   "execution_count": 45,
   "metadata": {},
   "outputs": [],
   "source": [
    "frames.timestamp = frames.timestamp.map(lambda x: set(x))"
   ]
  },
  {
   "cell_type": "code",
   "execution_count": 55,
   "metadata": {},
   "outputs": [
    {
     "data": {
      "text/plain": [
       "1"
      ]
     },
     "execution_count": 55,
     "metadata": {},
     "output_type": "execute_result"
    }
   ],
   "source": [
    "frames.timestamp.map(lambda x: len(x)).nunique()"
   ]
  },
  {
   "cell_type": "code",
   "execution_count": 89,
   "metadata": {},
   "outputs": [
    {
     "data": {
      "text/plain": [
       "2    504\n",
       "Name: timestamp, dtype: int64"
      ]
     },
     "execution_count": 89,
     "metadata": {},
     "output_type": "execute_result"
    }
   ],
   "source": [
    "frames.timestamp.map(lambda x: len(x)).value_counts()"
   ]
  },
  {
   "cell_type": "code",
   "execution_count": 49,
   "metadata": {},
   "outputs": [
    {
     "data": {
      "text/plain": [
       "{Timestamp('2020-07-10 09:31:17.671000+0000', tz='UTC'),\n",
       " Timestamp('2020-07-10 09:31:17.686000+0000', tz='UTC')}"
      ]
     },
     "execution_count": 49,
     "metadata": {},
     "output_type": "execute_result"
    }
   ],
   "source": [
    "frames.loc[3,\"timestamp\"]"
   ]
  },
  {
   "cell_type": "code",
   "execution_count": 50,
   "metadata": {},
   "outputs": [
    {
     "data": {
      "text/plain": [
       "{Timestamp('2020-07-10 09:31:18.049000+0000', tz='UTC'),\n",
       " Timestamp('2020-07-10 09:31:18.072000+0000', tz='UTC')}"
      ]
     },
     "execution_count": 50,
     "metadata": {},
     "output_type": "execute_result"
    }
   ],
   "source": [
    "frames.loc[7,\"timestamp\"]"
   ]
  },
  {
   "cell_type": "code",
   "execution_count": 51,
   "metadata": {},
   "outputs": [
    {
     "data": {
      "text/plain": [
       "1008"
      ]
     },
     "execution_count": 51,
     "metadata": {},
     "output_type": "execute_result"
    }
   ],
   "source": [
    "df.timestamp.nunique()"
   ]
  },
  {
   "cell_type": "code",
   "execution_count": 52,
   "metadata": {},
   "outputs": [
    {
     "data": {
      "text/plain": [
       "{Timestamp('2020-07-10 09:32:08.698000+0000', tz='UTC'),\n",
       " Timestamp('2020-07-10 09:32:08.704000+0000', tz='UTC')}"
      ]
     },
     "execution_count": 52,
     "metadata": {},
     "output_type": "execute_result"
    }
   ],
   "source": [
    "frames.loc[509,\"timestamp\"]"
   ]
  },
  {
   "cell_type": "code",
   "execution_count": 46,
   "metadata": {},
   "outputs": [
    {
     "data": {
      "text/html": [
       "<div>\n",
       "<style scoped>\n",
       "    .dataframe tbody tr th:only-of-type {\n",
       "        vertical-align: middle;\n",
       "    }\n",
       "\n",
       "    .dataframe tbody tr th {\n",
       "        vertical-align: top;\n",
       "    }\n",
       "\n",
       "    .dataframe thead th {\n",
       "        text-align: right;\n",
       "    }\n",
       "</style>\n",
       "<table border=\"1\" class=\"dataframe\">\n",
       "  <thead>\n",
       "    <tr style=\"text-align: right;\">\n",
       "      <th></th>\n",
       "      <th>timestamp</th>\n",
       "      <th>objects</th>\n",
       "    </tr>\n",
       "    <tr>\n",
       "      <th>frameId</th>\n",
       "      <th></th>\n",
       "      <th></th>\n",
       "    </tr>\n",
       "  </thead>\n",
       "  <tbody>\n",
       "    <tr>\n",
       "      <th>3</th>\n",
       "      <td>{2020-07-10 09:31:17.671000+00:00, 2020-07-10 ...</td>\n",
       "      <td>[[{'id': 0, 'x': 173, 'y': 216, 'w': 19, 'h': ...</td>\n",
       "    </tr>\n",
       "    <tr>\n",
       "      <th>7</th>\n",
       "      <td>{2020-07-10 09:31:18.049000+00:00, 2020-07-10 ...</td>\n",
       "      <td>[[{'id': 0, 'x': 164, 'y': 219, 'w': 19, 'h': ...</td>\n",
       "    </tr>\n",
       "    <tr>\n",
       "      <th>8</th>\n",
       "      <td>{2020-07-10 09:31:18.146000+00:00, 2020-07-10 ...</td>\n",
       "      <td>[[{'id': 0, 'x': 163, 'y': 219, 'w': 21, 'h': ...</td>\n",
       "    </tr>\n",
       "    <tr>\n",
       "      <th>9</th>\n",
       "      <td>{2020-07-10 09:31:18.249000+00:00, 2020-07-10 ...</td>\n",
       "      <td>[[{'id': 0, 'x': 157, 'y': 220, 'w': 18, 'h': ...</td>\n",
       "    </tr>\n",
       "    <tr>\n",
       "      <th>10</th>\n",
       "      <td>{2020-07-10 09:31:18.370000+00:00, 2020-07-10 ...</td>\n",
       "      <td>[[{'id': 0, 'x': 153, 'y': 220, 'w': 17, 'h': ...</td>\n",
       "    </tr>\n",
       "  </tbody>\n",
       "</table>\n",
       "</div>"
      ],
      "text/plain": [
       "                                                 timestamp  \\\n",
       "frameId                                                      \n",
       "3        {2020-07-10 09:31:17.671000+00:00, 2020-07-10 ...   \n",
       "7        {2020-07-10 09:31:18.049000+00:00, 2020-07-10 ...   \n",
       "8        {2020-07-10 09:31:18.146000+00:00, 2020-07-10 ...   \n",
       "9        {2020-07-10 09:31:18.249000+00:00, 2020-07-10 ...   \n",
       "10       {2020-07-10 09:31:18.370000+00:00, 2020-07-10 ...   \n",
       "\n",
       "                                                   objects  \n",
       "frameId                                                     \n",
       "3        [[{'id': 0, 'x': 173, 'y': 216, 'w': 19, 'h': ...  \n",
       "7        [[{'id': 0, 'x': 164, 'y': 219, 'w': 19, 'h': ...  \n",
       "8        [[{'id': 0, 'x': 163, 'y': 219, 'w': 21, 'h': ...  \n",
       "9        [[{'id': 0, 'x': 157, 'y': 220, 'w': 18, 'h': ...  \n",
       "10       [[{'id': 0, 'x': 153, 'y': 220, 'w': 17, 'h': ...  "
      ]
     },
     "execution_count": 46,
     "metadata": {},
     "output_type": "execute_result"
    }
   ],
   "source": [
    "frames.head()"
   ]
  },
  {
   "cell_type": "code",
   "execution_count": 28,
   "metadata": {},
   "outputs": [
    {
     "ename": "NameError",
     "evalue": "name 'PREFIX' is not defined",
     "output_type": "error",
     "traceback": [
      "\u001b[0;31m---------------------------------------------------------------------------\u001b[0m",
      "\u001b[0;31mNameError\u001b[0m                                 Traceback (most recent call last)",
      "\u001b[0;32m<ipython-input-28-40c4870cff7b>\u001b[0m in \u001b[0;36m<module>\u001b[0;34m()\u001b[0m\n\u001b[0;32m----> 1\u001b[0;31m \u001b[0mmerged\u001b[0m \u001b[0;34m=\u001b[0m \u001b[0mmerge\u001b[0m\u001b[0;34m(\u001b[0m\u001b[0mdf\u001b[0m\u001b[0;34m.\u001b[0m\u001b[0mloc\u001b[0m\u001b[0;34m[\u001b[0m\u001b[0mstarting_index\u001b[0m\u001b[0;34m:\u001b[0m\u001b[0;34m]\u001b[0m\u001b[0;34m.\u001b[0m\u001b[0mreset_index\u001b[0m\u001b[0;34m(\u001b[0m\u001b[0;34m)\u001b[0m\u001b[0;34m)\u001b[0m\u001b[0;34m\u001b[0m\u001b[0m\n\u001b[0m",
      "\u001b[0;32m<ipython-input-24-d741738eb74c>\u001b[0m in \u001b[0;36mmerge\u001b[0;34m(json_df)\u001b[0m\n\u001b[1;32m      1\u001b[0m \u001b[0;32mdef\u001b[0m \u001b[0mmerge\u001b[0m\u001b[0;34m(\u001b[0m\u001b[0mjson_df\u001b[0m\u001b[0;34m)\u001b[0m\u001b[0;34m:\u001b[0m\u001b[0;34m\u001b[0m\u001b[0m\n\u001b[0;32m----> 2\u001b[0;31m     \u001b[0mimage_file_names\u001b[0m \u001b[0;34m=\u001b[0m \u001b[0;34m[\u001b[0m\u001b[0mPREFIX\u001b[0m \u001b[0;34m+\u001b[0m \u001b[0;34m'_'\u001b[0m \u001b[0;34m+\u001b[0m \u001b[0mstr\u001b[0m\u001b[0;34m(\u001b[0m\u001b[0mi\u001b[0m\u001b[0;34m)\u001b[0m\u001b[0;34m.\u001b[0m\u001b[0mzfill\u001b[0m\u001b[0;34m(\u001b[0m\u001b[0;36m3\u001b[0m\u001b[0;34m)\u001b[0m \u001b[0;34m+\u001b[0m \u001b[0;34m'.png'\u001b[0m \u001b[0;32mfor\u001b[0m \u001b[0mi\u001b[0m \u001b[0;32min\u001b[0m \u001b[0mjson_df\u001b[0m\u001b[0;34m.\u001b[0m\u001b[0mindex\u001b[0m\u001b[0;34m]\u001b[0m\u001b[0;34m\u001b[0m\u001b[0m\n\u001b[0m\u001b[1;32m      3\u001b[0m     \u001b[0mmerged\u001b[0m \u001b[0;34m=\u001b[0m \u001b[0;34m{\u001b[0m\u001b[0mimage_file_names\u001b[0m\u001b[0;34m[\u001b[0m\u001b[0mj\u001b[0m\u001b[0;34m]\u001b[0m\u001b[0;34m:\u001b[0m\u001b[0mjson_df\u001b[0m\u001b[0;34m.\u001b[0m\u001b[0mloc\u001b[0m\u001b[0;34m[\u001b[0m\u001b[0mj\u001b[0m\u001b[0;34m,\u001b[0m\u001b[0;34m\"objects\"\u001b[0m\u001b[0;34m]\u001b[0m \u001b[0;32mfor\u001b[0m \u001b[0mj\u001b[0m \u001b[0;32min\u001b[0m \u001b[0mrange\u001b[0m\u001b[0;34m(\u001b[0m\u001b[0mlen\u001b[0m\u001b[0;34m(\u001b[0m\u001b[0mimage_file_names\u001b[0m\u001b[0;34m)\u001b[0m\u001b[0;34m)\u001b[0m\u001b[0;34m}\u001b[0m\u001b[0;34m\u001b[0m\u001b[0m\n\u001b[1;32m      4\u001b[0m     \u001b[0;32mreturn\u001b[0m \u001b[0mmerged\u001b[0m\u001b[0;34m\u001b[0m\u001b[0m\n",
      "\u001b[0;32m<ipython-input-24-d741738eb74c>\u001b[0m in \u001b[0;36m<listcomp>\u001b[0;34m(.0)\u001b[0m\n\u001b[1;32m      1\u001b[0m \u001b[0;32mdef\u001b[0m \u001b[0mmerge\u001b[0m\u001b[0;34m(\u001b[0m\u001b[0mjson_df\u001b[0m\u001b[0;34m)\u001b[0m\u001b[0;34m:\u001b[0m\u001b[0;34m\u001b[0m\u001b[0m\n\u001b[0;32m----> 2\u001b[0;31m     \u001b[0mimage_file_names\u001b[0m \u001b[0;34m=\u001b[0m \u001b[0;34m[\u001b[0m\u001b[0mPREFIX\u001b[0m \u001b[0;34m+\u001b[0m \u001b[0;34m'_'\u001b[0m \u001b[0;34m+\u001b[0m \u001b[0mstr\u001b[0m\u001b[0;34m(\u001b[0m\u001b[0mi\u001b[0m\u001b[0;34m)\u001b[0m\u001b[0;34m.\u001b[0m\u001b[0mzfill\u001b[0m\u001b[0;34m(\u001b[0m\u001b[0;36m3\u001b[0m\u001b[0;34m)\u001b[0m \u001b[0;34m+\u001b[0m \u001b[0;34m'.png'\u001b[0m \u001b[0;32mfor\u001b[0m \u001b[0mi\u001b[0m \u001b[0;32min\u001b[0m \u001b[0mjson_df\u001b[0m\u001b[0;34m.\u001b[0m\u001b[0mindex\u001b[0m\u001b[0;34m]\u001b[0m\u001b[0;34m\u001b[0m\u001b[0m\n\u001b[0m\u001b[1;32m      3\u001b[0m     \u001b[0mmerged\u001b[0m \u001b[0;34m=\u001b[0m \u001b[0;34m{\u001b[0m\u001b[0mimage_file_names\u001b[0m\u001b[0;34m[\u001b[0m\u001b[0mj\u001b[0m\u001b[0;34m]\u001b[0m\u001b[0;34m:\u001b[0m\u001b[0mjson_df\u001b[0m\u001b[0;34m.\u001b[0m\u001b[0mloc\u001b[0m\u001b[0;34m[\u001b[0m\u001b[0mj\u001b[0m\u001b[0;34m,\u001b[0m\u001b[0;34m\"objects\"\u001b[0m\u001b[0;34m]\u001b[0m \u001b[0;32mfor\u001b[0m \u001b[0mj\u001b[0m \u001b[0;32min\u001b[0m \u001b[0mrange\u001b[0m\u001b[0;34m(\u001b[0m\u001b[0mlen\u001b[0m\u001b[0;34m(\u001b[0m\u001b[0mimage_file_names\u001b[0m\u001b[0;34m)\u001b[0m\u001b[0;34m)\u001b[0m\u001b[0;34m}\u001b[0m\u001b[0;34m\u001b[0m\u001b[0m\n\u001b[1;32m      4\u001b[0m     \u001b[0;32mreturn\u001b[0m \u001b[0mmerged\u001b[0m\u001b[0;34m\u001b[0m\u001b[0m\n",
      "\u001b[0;31mNameError\u001b[0m: name 'PREFIX' is not defined"
     ]
    }
   ],
   "source": [
    "merged = merge(df.loc[starting_index:].reset_index())"
   ]
  },
  {
   "cell_type": "code",
   "execution_count": null,
   "metadata": {},
   "outputs": [],
   "source": [
    "merged"
   ]
  },
  {
   "cell_type": "markdown",
   "metadata": {},
   "source": [
    "## Draw some boxes for testing"
   ]
  },
  {
   "cell_type": "code",
   "execution_count": null,
   "metadata": {},
   "outputs": [],
   "source": [
    "# objects found in iamge number 1\n",
    "#objects_1 = merged['2020-07-02-12-07-24-378789_000.png']\n",
    "objects_1 = merged['2020-07-23-11-31-26-908767_001.png']\n",
    "filter_list = ['car','traffic light', 'person']\n",
    "detects = [item for item in objects_1 if item['name'] in filter_list]\n",
    "\n",
    "#cars_1 = [item for item in objects_1 if item['name']=='car']\n",
    "#person_1 = [item for item in objects_1 if item['name']=='person']\n"
   ]
  },
  {
   "cell_type": "code",
   "execution_count": null,
   "metadata": {},
   "outputs": [],
   "source": [
    "len(detects)\n",
    "\n",
    "#len(cars_1)"
   ]
  },
  {
   "cell_type": "code",
   "execution_count": null,
   "metadata": {},
   "outputs": [],
   "source": [
    "detects"
   ]
  },
  {
   "cell_type": "code",
   "execution_count": 65,
   "metadata": {},
   "outputs": [
    {
     "name": "stdout",
     "output_type": "stream",
     "text": [
      "/Users/helena/projects/OpenTrafficCount/otc-toolkit/recording/../evaluate_recordings/data/2020-07-10-11-31-27-614801\n",
      "2020-07-10-11-31-27-614801_076.png\n"
     ]
    },
    {
     "ename": "NameError",
     "evalue": "name 'detects' is not defined",
     "output_type": "error",
     "traceback": [
      "\u001b[0;31m---------------------------------------------------------------------------\u001b[0m",
      "\u001b[0;31mNameError\u001b[0m                                 Traceback (most recent call last)",
      "\u001b[0;32m<ipython-input-65-d19b5180435b>\u001b[0m in \u001b[0;36m<module>\u001b[0;34m()\u001b[0m\n\u001b[1;32m      8\u001b[0m         \u001b[0msource_img\u001b[0m \u001b[0;34m=\u001b[0m \u001b[0mImage\u001b[0m\u001b[0;34m.\u001b[0m\u001b[0mopen\u001b[0m\u001b[0;34m(\u001b[0m\u001b[0mos\u001b[0m\u001b[0;34m.\u001b[0m\u001b[0mpath\u001b[0m\u001b[0;34m.\u001b[0m\u001b[0mjoin\u001b[0m\u001b[0;34m(\u001b[0m\u001b[0mpath_to_images\u001b[0m\u001b[0;34m,\u001b[0m \u001b[0mfile_name\u001b[0m\u001b[0;34m)\u001b[0m\u001b[0;34m)\u001b[0m\u001b[0;34m\u001b[0m\u001b[0m\n\u001b[1;32m      9\u001b[0m         \u001b[0mdraw\u001b[0m \u001b[0;34m=\u001b[0m \u001b[0mImageDraw\u001b[0m\u001b[0;34m.\u001b[0m\u001b[0mDraw\u001b[0m\u001b[0;34m(\u001b[0m\u001b[0msource_img\u001b[0m\u001b[0;34m)\u001b[0m\u001b[0;34m\u001b[0m\u001b[0m\n\u001b[0;32m---> 10\u001b[0;31m         \u001b[0;32mfor\u001b[0m \u001b[0mitem\u001b[0m \u001b[0;32min\u001b[0m \u001b[0mdetects\u001b[0m\u001b[0;34m:\u001b[0m\u001b[0;34m\u001b[0m\u001b[0m\n\u001b[0m\u001b[1;32m     11\u001b[0m             \u001b[0mx\u001b[0m \u001b[0;34m=\u001b[0m \u001b[0mitem\u001b[0m\u001b[0;34m[\u001b[0m\u001b[0;34m\"x\"\u001b[0m\u001b[0;34m]\u001b[0m\u001b[0;34m\u001b[0m\u001b[0m\n\u001b[1;32m     12\u001b[0m             \u001b[0my\u001b[0m \u001b[0;34m=\u001b[0m \u001b[0mitem\u001b[0m\u001b[0;34m[\u001b[0m\u001b[0;34m\"y\"\u001b[0m\u001b[0;34m]\u001b[0m\u001b[0;34m\u001b[0m\u001b[0m\n",
      "\u001b[0;31mNameError\u001b[0m: name 'detects' is not defined"
     ]
    }
   ],
   "source": [
    "# Draw Bounding boxes\n",
    "# Set bounding boxes path to same directory as images. \n",
    "path_to_images = os.getcwd()+ \"/\" + IMAGE_PATH\n",
    "print(path_to_images)\n",
    "for file_name in os.listdir(path_to_images):\n",
    "    if file_name.endswith(\".png\"):\n",
    "        print(file_name)\n",
    "        source_img = Image.open(os.path.join(path_to_images, file_name))\n",
    "        draw = ImageDraw.Draw(source_img)\n",
    "        for item in detects:\n",
    "            x = item[\"x\"]\n",
    "            y = item[\"y\"]\n",
    "            w = item[\"w\"]\n",
    "            h = item[\"h\"]\n",
    "            name = item[\"name\"]\n",
    "            draw.rectangle(((x-w/2, y-h/2), (x+w/2, y+h/2)), fill=None, outline=\"red\")\n",
    "            draw.text((x-w/2, y-h/2), name, font=ImageFont.truetype('Pillow/Tests/fonts/Arial.ttf'), fill=\"red\")\n",
    "        source_img.save('boxes_'+ file_name.split(\".\")[0] + '.jpg')\n",
    "\n",
    "   \n",
    "                                \n",
    "#(glob(join(IMAGE_PATH, '*.png')))"
   ]
  },
  {
   "cell_type": "code",
   "execution_count": null,
   "metadata": {},
   "outputs": [],
   "source": [
    "!ls"
   ]
  },
  {
   "cell_type": "code",
   "execution_count": null,
   "metadata": {},
   "outputs": [],
   "source": [
    "#!rm boxes_2020-06-04-15-40-21-286683_*"
   ]
  },
  {
   "cell_type": "code",
   "execution_count": null,
   "metadata": {},
   "outputs": [],
   "source": [
    "!ls Recordings/"
   ]
  },
  {
   "cell_type": "code",
   "execution_count": null,
   "metadata": {},
   "outputs": [],
   "source": [
    "#Open any image with boxes\n",
    "Image.open(\"boxes_.jpg\")"
   ]
  },
  {
   "cell_type": "markdown",
   "metadata": {},
   "source": [
    "##Done\n",
    "1. add text for name parameter\n",
    "\n",
    "## pending\n",
    "2. not only cars, all objects\n",
    "3. all directories\n",
    "4. store images with boxes, e.g. boxes_<original_image_name>.png (so \"boxes\" as a prefix for the image name)\n",
    "5. throw everything into a python script"
   ]
  },
  {
   "cell_type": "code",
   "execution_count": null,
   "metadata": {},
   "outputs": [],
   "source": []
  }
 ],
 "metadata": {
  "kernelspec": {
   "display_name": "Python 3",
   "language": "python",
   "name": "python3"
  },
  "language_info": {
   "codemirror_mode": {
    "name": "ipython",
    "version": 3
   },
   "file_extension": ".py",
   "mimetype": "text/x-python",
   "name": "python",
   "nbconvert_exporter": "python",
   "pygments_lexer": "ipython3",
   "version": "3.6.5"
  }
 },
 "nbformat": 4,
 "nbformat_minor": 2
}
